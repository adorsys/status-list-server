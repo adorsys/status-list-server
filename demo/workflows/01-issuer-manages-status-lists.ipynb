{
 "cells": [
  {
   "cell_type": "markdown",
   "id": "b7a6d155-0337-456b-88ea-41df71cbc3f2",
   "metadata": {},
   "source": [
    "# Scenario: A Token Issuer manages Token Status Lists"
   ]
  },
  {
   "cell_type": "code",
   "execution_count": 4,
   "id": "41e6fe92-f0c5-4e87-815a-5fdcb535fad7",
   "metadata": {},
   "outputs": [],
   "source": [
    "from helpers import fixtures, utils\n",
    "import requests\n",
    "import json"
   ]
  },
  {
   "cell_type": "markdown",
   "id": "8bdb36a7-8681-487e-afe7-bbcb1f2bdcc0",
   "metadata": {},
   "source": [
    "### Configure the base URL of the Status List Server"
   ]
  },
  {
   "cell_type": "code",
   "execution_count": 5,
   "id": "4275e08c-1908-42e3-bbbe-4ed39aee91e6",
   "metadata": {},
   "outputs": [
    {
     "name": "stdout",
     "output_type": "stream",
     "text": [
      "Using base URL: http://localhost:8000\n"
     ]
    }
   ],
   "source": [
    "BASE_URL = utils.get_base_url()\n",
    "print(f\"Using base URL: {BASE_URL}\")"
   ]
  },
  {
   "cell_type": "markdown",
   "id": "19aee5dd-7d7e-4ab0-9496-e9cce7537a45",
   "metadata": {},
   "source": [
    "### Test the Health Check Endpoint (GET /)"
   ]
  },
  {
   "cell_type": "code",
   "execution_count": 6,
   "id": "3877b4b5-048c-4052-9af7-bdd116616155",
   "metadata": {},
   "outputs": [
    {
     "name": "stdout",
     "output_type": "stream",
     "text": [
      "Testing GET: http://localhost:8000/\n",
      "Health check successful! Server is running.\n"
     ]
    }
   ],
   "source": [
    "health_endpoint = f\"{BASE_URL}/\"\n",
    "print(f\"Testing GET: {health_endpoint}\")\n",
    "\n",
    "response = requests.get(health_endpoint)\n",
    "assert response.status_code == 200, f\"Health check failed\"\n",
    "\n",
    "print(\"Health check successful! Server is running.\")"
   ]
  },
  {
   "cell_type": "markdown",
   "id": "1df62cee-9c26-4182-bed3-5c4adf22a14a",
   "metadata": {},
   "source": [
    "### Test the Publish Credentials Endpoint (POST /credentials)"
   ]
  },
  {
   "cell_type": "raw",
   "id": "e39e0eac-ad4e-4490-af5e-219792fbd763",
   "metadata": {},
   "source": [
    "credentials_endpoint = f\"{BASE_URL}/credentials\"\n",
    "print(f\"Testing POST: {credentials_endpoint}\")\n",
    "\n",
    "# --- Request Body (Payload) ---\n",
    "# Replace placeholder values with your actual test data\n",
    "payload = {\n",
    "  \"issuer\": \"your_issuer_id_here\",\n",
    "  # Replace with the actual base64 encoded PEM public key string\n",
    "  \"public_key\": \"-----BEGIN PUBLIC KEY-----\\nMFkwEwYHKoZIzj0CAQYIKoZIzj0DAQcDQgAE...\\n-----END PUBLIC KEY-----\", # <-- Example base64 encoded PEM content (replace with actual)\n",
    "  \"alg\": \"ES256\" # Replace with the actual algorithm string (e.g., \"RS256\", \"ES256\")\n",
    "}\n",
    "# ------------------------------\n",
    "\n",
    "print(\"Request Payload:\")\n",
    "print(json.dumps(payload, indent=2))\n",
    "\n",
    "try:\n",
    "    # requests.post sends the data. Using json=payload automatically sets Content-Type to application/json\n",
    "    response = requests.post(credentials_endpoint, json=payload)\n",
    "\n",
    "    print(f\"\\nStatus Code: {response.status_code}\")\n",
    "\n",
    "    print(\"Response Body:\")\n",
    "    try:\n",
    "        # Attempt to print response body as pretty JSON\n",
    "        print(json.dumps(response.json(), indent=2))\n",
    "    except json.JSONDecodeError:\n",
    "        # If response is not JSON, print as plain text\n",
    "        print(response.text)\n",
    "\n",
    "    if response.status_code == 200:\n",
    "        print(\"\\nCredentials published successfully!\")\n",
    "    else:\n",
    "        print(\"\\nFailed to publish credentials or unexpected status.\")\n",
    "        # The response body (printed above) should give you more details on the error\n",
    "\n",
    "except requests.exceptions.RequestException as e:\n",
    "    print(f\"An error occurred while connecting: {e}\")"
   ]
  },
  {
   "cell_type": "code",
   "execution_count": null,
   "id": "44bc51c6-1a04-493d-9310-ea0e5665d0db",
   "metadata": {},
   "outputs": [],
   "source": []
  }
 ],
 "metadata": {
  "kernelspec": {
   "display_name": "Python 3 (ipykernel)",
   "language": "python",
   "name": "python3"
  },
  "language_info": {
   "codemirror_mode": {
    "name": "ipython",
    "version": 3
   },
   "file_extension": ".py",
   "mimetype": "text/x-python",
   "name": "python",
   "nbconvert_exporter": "python",
   "pygments_lexer": "ipython3",
   "version": "3.10.16"
  }
 },
 "nbformat": 4,
 "nbformat_minor": 5
}
