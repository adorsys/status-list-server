{
 "cells": [
  {
   "cell_type": "markdown",
   "id": "b7a6d155-0337-456b-88ea-41df71cbc3f2",
   "metadata": {},
   "source": [
    "## Scenario: Unregistered issuers cannot publish lists"
   ]
  },
  {
   "cell_type": "code",
   "execution_count": 1,
   "id": "41e6fe92-f0c5-4e87-815a-5fdcb535fad7",
   "metadata": {},
   "outputs": [],
   "source": [
    "from helpers import fixtures, utils\n",
    "from helpers.utils import tc\n",
    "import requests\n",
    "import uuid\n",
    "import random"
   ]
  },
  {
   "cell_type": "markdown",
   "id": "8bdb36a7-8681-487e-afe7-bbcb1f2bdcc0",
   "metadata": {},
   "source": [
    "### Configure the base URL of the Status List Server"
   ]
  },
  {
   "cell_type": "code",
   "execution_count": 2,
   "id": "4275e08c-1908-42e3-bbbe-4ed39aee91e6",
   "metadata": {},
   "outputs": [
    {
     "name": "stdout",
     "output_type": "stream",
     "text": [
      "Using base URL: http://localhost:8000\n"
     ]
    }
   ],
   "source": [
    "BASE_URL = utils.get_base_url()\n",
    "print(f\"Using base URL: {BASE_URL}\")"
   ]
  },
  {
   "cell_type": "markdown",
   "id": "19aee5dd-7d7e-4ab0-9496-e9cce7537a45",
   "metadata": {},
   "source": [
    "### Test the Health Check Endpoint (GET /health)"
   ]
  },
  {
   "cell_type": "code",
   "execution_count": 3,
   "id": "3877b4b5-048c-4052-9af7-bdd116616155",
   "metadata": {},
   "outputs": [
    {
     "name": "stdout",
     "output_type": "stream",
     "text": [
      "Testing GET: http://localhost:8000/health\n",
      "Health check successful! Server is running.\n"
     ]
    }
   ],
   "source": [
    "health_endpoint = f\"{BASE_URL}/health\"\n",
    "print(f\"Testing GET: {health_endpoint}\")\n",
    "\n",
    "response = requests.get(health_endpoint)\n",
    "tc.assertEqual(response.status_code, 200, \"Health check failed\")\n",
    "tc.assertEqual(\"OK\", response.json().get(\"status\"))\n",
    "\n",
    "print(\"Health check successful! Server is running.\")"
   ]
  },
  {
   "cell_type": "markdown",
   "id": "1df62cee-9c26-4182-bed3-5c4adf22a14a",
   "metadata": {},
   "source": [
    "### Issuer A registers on the Status List Server but Issuer B does not"
   ]
  },
  {
   "cell_type": "code",
   "execution_count": 4,
   "id": "44bfd447-d0ad-4fcc-97f7-e1c399a4fe75",
   "metadata": {},
   "outputs": [
    {
     "name": "stdout",
     "output_type": "stream",
     "text": [
      "Testing POST: http://localhost:8000/credentials\n",
      "Proceeding with Issuer: gondwana-digital-pole-jgb33\n",
      "Credentials published successfully!\n"
     ]
    }
   ],
   "source": [
    "credentials_endpoint = f\"{BASE_URL}/credentials\"\n",
    "print(f\"Testing POST: {credentials_endpoint}\")\n",
    "\n",
    "gondwana_digital_pole = fixtures.get_gondwana_digital_pole_issuer()\n",
    "print(\"Proceeding with Issuer:\", gondwana_digital_pole.get('label'))\n",
    "\n",
    "payload = {\n",
    "  \"issuer\": gondwana_digital_pole.get('label'),\n",
    "  \"public_key\": gondwana_digital_pole.get('keypair').get('public_key'),\n",
    "  \"alg\": gondwana_digital_pole.get('keypair').get('alg')\n",
    "}\n",
    "\n",
    "response = requests.post(credentials_endpoint, json=payload)\n",
    "tc.assertEqual(response.status_code, 202, \"Failed to publish credentials\")\n",
    "print(\"Credentials published successfully!\")"
   ]
  },
  {
   "cell_type": "markdown",
   "id": "069426a0-797f-4dfc-a5e7-e483c62f2516",
   "metadata": {},
   "source": [
    "### Issuer A publishes a status list"
   ]
  },
  {
   "cell_type": "code",
   "execution_count": 5,
   "id": "66ecb2fc-ef3c-4770-9ef4-b80e4b8efeec",
   "metadata": {},
   "outputs": [
    {
     "name": "stdout",
     "output_type": "stream",
     "text": [
      "Testing POST: http://localhost:8000/statuslists/publish\n",
      "Issuer A published status list 98e456d8-b03b-4c3a-aae7-c199b13f5201\n"
     ]
    }
   ],
   "source": [
    "status_publish_endpoint = f\"{BASE_URL}/statuslists/publish\"\n",
    "print(f\"Testing POST: {status_publish_endpoint}\")\n",
    "\n",
    "bearer_token = fixtures.create_bearer_jwt_token(gondwana_digital_pole)\n",
    "status_list_id = str(uuid.uuid4())\n",
    "\n",
    "response = requests.post(status_publish_endpoint, json={\n",
    "    \"list_id\": status_list_id,\n",
    "    \"status\": [{\"index\": 1, \"status\": \"VALID\"}]\n",
    "}, headers={\"Authorization\": f\"Bearer {bearer_token}\"})\n",
    "\n",
    "tc.assertEqual(response.status_code, 201, \"Failed to publish token statuses\")\n",
    "print(f\"Issuer A published status list {status_list_id}\")"
   ]
  },
  {
   "cell_type": "markdown",
   "id": "7b97848f-48e4-4f92-8e56-d7ce19bbb24e",
   "metadata": {},
   "source": [
    "### Issuer B fails to publish a status list because UNREGISTERED"
   ]
  },
  {
   "cell_type": "code",
   "execution_count": 6,
   "id": "c4a193fc-2705-4c15-ad58-4aadd2e8dda3",
   "metadata": {},
   "outputs": [
    {
     "name": "stdout",
     "output_type": "stream",
     "text": [
      "Testing POST: http://localhost:8000/statuslists/publish\n",
      "Unregistered Issuer B was prevented from publishing status list 7f933386-57e8-41b5-90ba-f0efc3d820f9\n"
     ]
    }
   ],
   "source": [
    "print(f\"Testing POST: {status_publish_endpoint}\")\n",
    "\n",
    "scott_holdings = fixtures.get_scott_holdings_issuer()\n",
    "bearer_token = fixtures.create_bearer_jwt_token(scott_holdings)\n",
    "status_list_id = str(uuid.uuid4())\n",
    "\n",
    "response = requests.post(status_publish_endpoint, json={\n",
    "    \"list_id\": status_list_id,\n",
    "    \"status\": [{\"index\": 1, \"status\": \"VALID\"}]\n",
    "}, headers={\"Authorization\": f\"Bearer {bearer_token}\"})\n",
    "\n",
    "tc.assertEqual(response.status_code, 401, \"Unregistered clients should be unable to publish lists\")\n",
    "tc.assertEqual(\"Issuer not found\", response.text)\n",
    "print(f\"Unregistered Issuer B was prevented from publishing status list {status_list_id}\")"
   ]
  },
  {
   "cell_type": "markdown",
   "id": "474aaef5-ab00-4102-9ed4-fe385abb839f",
   "metadata": {},
   "source": [
    "### Unauthenticated clients are equally prevented from publishing lists"
   ]
  },
  {
   "cell_type": "code",
   "execution_count": 7,
   "id": "3549aa15-ff3c-49c5-aac4-4e86fc0fdfd9",
   "metadata": {},
   "outputs": [
    {
     "name": "stdout",
     "output_type": "stream",
     "text": [
      "Testing POST: http://localhost:8000/statuslists/publish\n",
      "The unauthenticated client was prevented from publishing a status list\n"
     ]
    }
   ],
   "source": [
    "print(f\"Testing POST: {status_publish_endpoint}\")\n",
    "\n",
    "response = requests.post(status_publish_endpoint, json={\n",
    "    \"list_id\": str(uuid.uuid4()),\n",
    "    \"status\": [{\"index\": 1, \"status\": \"VALID\"}]\n",
    "})\n",
    "\n",
    "tc.assertEqual(response.status_code, 401, \"Authentication should be required on the publish endpoint\")\n",
    "tc.assertEqual(\"Missing Authorization header\", response.text)\n",
    "print(f\"The unauthenticated client was prevented from publishing a status list\")"
   ]
  },
  {
   "cell_type": "code",
   "execution_count": null,
   "id": "d68cd675-ccb1-4cfc-a9d4-340122137b52",
   "metadata": {},
   "outputs": [],
   "source": []
  }
 ],
 "metadata": {
  "kernelspec": {
   "display_name": "Python 3 (ipykernel)",
   "language": "python",
   "name": "python3"
  },
  "language_info": {
   "codemirror_mode": {
    "name": "ipython",
    "version": 3
   },
   "file_extension": ".py",
   "mimetype": "text/x-python",
   "name": "python",
   "nbconvert_exporter": "python",
   "pygments_lexer": "ipython3",
   "version": "3.10.16"
  }
 },
 "nbformat": 4,
 "nbformat_minor": 5
}
