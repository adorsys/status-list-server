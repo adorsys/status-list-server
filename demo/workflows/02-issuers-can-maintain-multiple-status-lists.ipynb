{
 "cells": [
  {
   "cell_type": "markdown",
   "id": "b7a6d155-0337-456b-88ea-41df71cbc3f2",
   "metadata": {},
   "source": [
    "## Scenario: Token Issuers can maintain multiple Token Status Lists"
   ]
  },
  {
   "cell_type": "code",
   "execution_count": 1,
   "id": "41e6fe92-f0c5-4e87-815a-5fdcb535fad7",
   "metadata": {},
   "outputs": [],
   "source": [
    "from helpers import fixtures, utils\n",
    "from helpers.utils import tc\n",
    "import requests\n",
    "import uuid\n",
    "import random"
   ]
  },
  {
   "cell_type": "markdown",
   "id": "8bdb36a7-8681-487e-afe7-bbcb1f2bdcc0",
   "metadata": {},
   "source": [
    "### Configure the base URL of the Status List Server"
   ]
  },
  {
   "cell_type": "code",
   "execution_count": 2,
   "id": "4275e08c-1908-42e3-bbbe-4ed39aee91e6",
   "metadata": {},
   "outputs": [
    {
     "name": "stdout",
     "output_type": "stream",
     "text": [
      "Using base URL: http://localhost:8000\n"
     ]
    }
   ],
   "source": [
    "BASE_URL = utils.get_base_url()\n",
    "print(f\"Using base URL: {BASE_URL}\")"
   ]
  },
  {
   "cell_type": "markdown",
   "id": "19aee5dd-7d7e-4ab0-9496-e9cce7537a45",
   "metadata": {},
   "source": [
    "### Test the Health Check Endpoint (GET /)"
   ]
  },
  {
   "cell_type": "code",
   "execution_count": 3,
   "id": "3877b4b5-048c-4052-9af7-bdd116616155",
   "metadata": {},
   "outputs": [
    {
     "name": "stdout",
     "output_type": "stream",
     "text": [
      "Testing GET: http://localhost:8000/\n",
      "Health check successful! Server is running.\n"
     ]
    }
   ],
   "source": [
    "health_endpoint = f\"{BASE_URL}/\"\n",
    "print(f\"Testing GET: {health_endpoint}\")\n",
    "\n",
    "response = requests.get(health_endpoint)\n",
    "tc.assertEqual(response.status_code, 200, \"Health check failed\")\n",
    "\n",
    "print(\"Health check successful! Server is running.\")"
   ]
  },
  {
   "cell_type": "markdown",
   "id": "1df62cee-9c26-4182-bed3-5c4adf22a14a",
   "metadata": {},
   "source": [
    "### Two Issuers register on the Status List Server by publish credentials"
   ]
  },
  {
   "cell_type": "code",
   "execution_count": 4,
   "id": "44bfd447-d0ad-4fcc-97f7-e1c399a4fe75",
   "metadata": {},
   "outputs": [
    {
     "name": "stdout",
     "output_type": "stream",
     "text": [
      "Proceeding with Issuer: gondwana-digital-pole-6l2rg\n",
      "Testing POST: http://localhost:8000/credentials\n",
      "Credentials published successfully!\n",
      "\n",
      "Proceeding with Issuer: scott-holdings-0jd1j\n",
      "Testing POST: http://localhost:8000/credentials\n",
      "Credentials published successfully!\n",
      "\n"
     ]
    }
   ],
   "source": [
    "gondwana_digital_pole = fixtures.get_gondwana_digital_pole_issuer()\n",
    "scott_holdings = fixtures.get_scott_holdings_issuer()\n",
    "\n",
    "for issuer_data in [gondwana_digital_pole, scott_holdings]:\n",
    "    print(\"Proceeding with Issuer:\", issuer_data.get('label'))\n",
    "    \n",
    "    credentials_endpoint = f\"{BASE_URL}/credentials\"\n",
    "    print(f\"Testing POST: {credentials_endpoint}\")\n",
    "    \n",
    "    payload = {\n",
    "      \"issuer\": issuer_data.get('label'),\n",
    "      \"public_key\": issuer_data.get('keypair').get('public_key'),\n",
    "      \"alg\": issuer_data.get('keypair').get('alg')\n",
    "    }\n",
    "    \n",
    "    response = requests.post(credentials_endpoint, json=payload)\n",
    "    tc.assertEqual(response.status_code, 202, \"Failed to publish credentials\")\n",
    "    print(\"Credentials published successfully!\\n\")"
   ]
  },
  {
   "cell_type": "markdown",
   "id": "069426a0-797f-4dfc-a5e7-e483c62f2516",
   "metadata": {},
   "source": [
    "### They publish multiple status lists"
   ]
  },
  {
   "cell_type": "code",
   "execution_count": 5,
   "id": "66ecb2fc-ef3c-4770-9ef4-b80e4b8efeec",
   "metadata": {},
   "outputs": [
    {
     "name": "stdout",
     "output_type": "stream",
     "text": [
      "Testing POST: http://localhost:8000/statuslists/publish\n",
      "gondwana-digital-pole-6l2rg publishes status list b76cdc2b-ba85-4761-920f-730cc5e60e1f\n",
      "gondwana-digital-pole-6l2rg publishes status list a210da97-b37e-4c28-a9f1-6057d68f5d25\n",
      "gondwana-digital-pole-6l2rg publishes status list 31bf26d6-8cd3-414e-b442-56bc83218740\n",
      "scott-holdings-0jd1j publishes status list 2a433d14-f36b-4da6-8bde-66933704a9ba\n",
      "scott-holdings-0jd1j publishes status list 8900de6a-869c-47a4-a8b3-8cbe7c22c31a\n",
      "scott-holdings-0jd1j publishes status list 97a64f55-2b36-4063-b763-ac9c51635422\n"
     ]
    }
   ],
   "source": [
    "# Since status lists are so far not linked to issuers, just assume they are.\n",
    "# Below, each issuer publishes three lists.\n",
    "\n",
    "status_publish_endpoint = f\"{BASE_URL}/statuslists/publish\"\n",
    "print(f\"Testing POST: {status_publish_endpoint}\")\n",
    "\n",
    "for issuer_data in [gondwana_digital_pole, scott_holdings]:\n",
    "    for _ in range(3): # each issuer publishes three lists\n",
    "        status_list_id = str(uuid.uuid4())\n",
    "        print(f\"{issuer_data.get('label')} publishes status list {status_list_id}\")\n",
    "        \n",
    "        response = requests.post(status_publish_endpoint, json={\n",
    "            \"list_id\": status_list_id,\n",
    "            \"bits\": random.choice([1, 2, 4, 8]),\n",
    "            \"updates\": [{\"index\": i, \"status\": \"VALID\"} for i in range(random.randint(1, 5))]\n",
    "        })\n",
    "        \n",
    "        tc.assertEqual(response.status_code, 201, \"Failed to publish token statuses\")"
   ]
  },
  {
   "cell_type": "code",
   "execution_count": null,
   "id": "969b268d-70bd-4cc3-912b-c8d152907976",
   "metadata": {},
   "outputs": [],
   "source": []
  }
 ],
 "metadata": {
  "kernelspec": {
   "display_name": "Python 3 (ipykernel)",
   "language": "python",
   "name": "python3"
  },
  "language_info": {
   "codemirror_mode": {
    "name": "ipython",
    "version": 3
   },
   "file_extension": ".py",
   "mimetype": "text/x-python",
   "name": "python",
   "nbconvert_exporter": "python",
   "pygments_lexer": "ipython3",
   "version": "3.10.16"
  }
 },
 "nbformat": 4,
 "nbformat_minor": 5
}
