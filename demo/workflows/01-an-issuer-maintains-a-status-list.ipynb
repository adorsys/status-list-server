{
 "cells": [
  {
   "cell_type": "markdown",
   "id": "b7a6d155-0337-456b-88ea-41df71cbc3f2",
   "metadata": {},
   "source": [
    "## Scenario: A Token Issuer maintains a Token Status List at the Status List Server"
   ]
  },
  {
   "cell_type": "code",
   "execution_count": 1,
   "id": "41e6fe92-f0c5-4e87-815a-5fdcb535fad7",
   "metadata": {},
   "outputs": [],
   "source": [
    "from helpers import fixtures, utils\n",
    "from helpers.utils import tc\n",
    "import requests\n",
    "import uuid\n",
    "import jwt"
   ]
  },
  {
   "cell_type": "markdown",
   "id": "8bdb36a7-8681-487e-afe7-bbcb1f2bdcc0",
   "metadata": {},
   "source": [
    "### Configure the base URL of the Status List Server"
   ]
  },
  {
   "cell_type": "code",
   "execution_count": 2,
   "id": "4275e08c-1908-42e3-bbbe-4ed39aee91e6",
   "metadata": {},
   "outputs": [
    {
     "name": "stdout",
     "output_type": "stream",
     "text": [
      "Using base URL: http://localhost:8000\n"
     ]
    }
   ],
   "source": [
    "BASE_URL = utils.get_base_url()\n",
    "print(f\"Using base URL: {BASE_URL}\")"
   ]
  },
  {
   "cell_type": "markdown",
   "id": "19aee5dd-7d7e-4ab0-9496-e9cce7537a45",
   "metadata": {},
   "source": [
    "### Test the Health Check Endpoint (GET /health)"
   ]
  },
  {
   "cell_type": "code",
   "execution_count": 3,
   "id": "3877b4b5-048c-4052-9af7-bdd116616155",
   "metadata": {
    "scrolled": true
   },
   "outputs": [
    {
     "name": "stdout",
     "output_type": "stream",
     "text": [
      "Testing GET: http://localhost:8000/health\n",
      "Health check successful! Server is running.\n"
     ]
    }
   ],
   "source": [
    "health_endpoint = f\"{BASE_URL}/health\"\n",
    "print(f\"Testing GET: {health_endpoint}\")\n",
    "\n",
    "response = requests.get(health_endpoint)\n",
    "tc.assertEqual(response.status_code, 200, \"Health check failed\")\n",
    "tc.assertEqual(\"OK\", response.json().get(\"status\"))\n",
    "\n",
    "print(\"Health check successful! Server is running.\")"
   ]
  },
  {
   "cell_type": "markdown",
   "id": "1df62cee-9c26-4182-bed3-5c4adf22a14a",
   "metadata": {},
   "source": [
    "### Publish credentials to register as an Issuer (POST /credentials)"
   ]
  },
  {
   "cell_type": "code",
   "execution_count": 4,
   "id": "44bfd447-d0ad-4fcc-97f7-e1c399a4fe75",
   "metadata": {},
   "outputs": [
    {
     "name": "stdout",
     "output_type": "stream",
     "text": [
      "Proceeding with Issuer: gondwana-digital-pole-b4kpn\n",
      "Testing POST: http://localhost:8000/credentials\n",
      "Credentials published successfully!\n"
     ]
    }
   ],
   "source": [
    "issuer_data = fixtures.get_gondwana_digital_pole_issuer()\n",
    "print(\"Proceeding with Issuer:\", issuer_data.get('label'))\n",
    "\n",
    "credentials_endpoint = f\"{BASE_URL}/credentials\"\n",
    "print(f\"Testing POST: {credentials_endpoint}\")\n",
    "\n",
    "payload = {\n",
    "  \"issuer\": issuer_data.get('label'),\n",
    "  \"public_key\": issuer_data.get('keypair').get('public_key'),\n",
    "  \"alg\": issuer_data.get('keypair').get('alg')\n",
    "}\n",
    "\n",
    "response = requests.post(credentials_endpoint, json=payload)\n",
    "tc.assertEqual(response.status_code, 202, \"Failed to publish credentials\")\n",
    "tc.assertEqual(\"Credentials stored successfully\", response.text)\n",
    "print(\"Credentials published successfully!\")"
   ]
  },
  {
   "cell_type": "code",
   "execution_count": 5,
   "id": "295c08d3-1003-4d75-ba71-a3ad70923b3b",
   "metadata": {},
   "outputs": [],
   "source": [
    "# It should not be possible to replay the request to publish credentials for the same issuer.\n",
    "response = requests.post(credentials_endpoint, json=payload)\n",
    "tc.assertEqual(response.status_code, 409)\n",
    "tc.assertEqual(\"Credentials already exist for this issuer\", response.text)"
   ]
  },
  {
   "cell_type": "markdown",
   "id": "069426a0-797f-4dfc-a5e7-e483c62f2516",
   "metadata": {},
   "source": [
    "### Publish token statuses to a status list (POST /statuslists/publish)"
   ]
  },
  {
   "cell_type": "code",
   "execution_count": 6,
   "id": "66ecb2fc-ef3c-4770-9ef4-b80e4b8efeec",
   "metadata": {},
   "outputs": [
    {
     "name": "stdout",
     "output_type": "stream",
     "text": [
      "Testing POST: http://localhost:8000/statuslists/publish\n",
      "Publishing status list: b01aa06f-a499-46ff-af47-f2b4afa4d17b\n",
      "Token statuses published successfully!\n"
     ]
    }
   ],
   "source": [
    "status_publish_endpoint = f\"{BASE_URL}/statuslists/publish\"\n",
    "print(f\"Testing POST: {status_publish_endpoint}\")\n",
    "\n",
    "# Issuers are responsible of the ID of the status list they manage\n",
    "status_list_id = str(uuid.uuid4())\n",
    "print(\"Publishing status list:\", status_list_id)\n",
    "\n",
    "# Create bearer JWT token for authentication\n",
    "bearer_token = fixtures.create_bearer_jwt_token(issuer_data)\n",
    "\n",
    "# Publish statuses\n",
    "response = requests.post(\n",
    "    status_publish_endpoint,\n",
    "    headers={\"Authorization\": f\"Bearer {bearer_token}\"},\n",
    "    json={\n",
    "        \"list_id\": status_list_id,\n",
    "        \"status\": [\n",
    "            {\"index\": 1, \"status\": \"VALID\"},\n",
    "            {\"index\": 8, \"status\": \"INVALID\"}\n",
    "        ]\n",
    "    }\n",
    ")\n",
    "\n",
    "tc.assertEqual(response.status_code, 201, \"Failed to publish token statuses\")\n",
    "print(\"Token statuses published successfully!\")"
   ]
  },
  {
   "cell_type": "markdown",
   "id": "99a5de98-c609-48bf-925f-821c38f24b77",
   "metadata": {},
   "source": [
    "### Update token statuses given a status list (POST /statuslists/{list_id})"
   ]
  },
  {
   "cell_type": "code",
   "execution_count": null,
   "id": "22e56ebc-1503-4114-a159-6131017934f6",
   "metadata": {},
   "outputs": [],
   "source": [
    "status_update_endpoint = f\"{BASE_URL}/statuslists/{status_list_id}\"\n",
    "print(f\"Testing PUT: {status_update_endpoint}\")\n",
    "\n",
    "# Create bearer JWT token for authentication\n",
    "bearer_token = fixtures.create_bearer_jwt_token(issuer_data)\n",
    "\n",
    "# Publish statuses\n",
    "response = requests.post(\n",
    "    status_publish_endpoint,\n",
    "    headers={\"Authorization\": f\"Bearer {bearer_token}\"},\n",
    "    json={\n",
    "        \"list_id\": status_list_id,\n",
    "        \"status\": [\n",
    "            {\"index\": 1, \"status\": \"VALID\"},\n",
    "            {\"index\": 8, \"status\": \"INVALID\"}\n",
    "        ]\n",
    "    }\n",
    ")\n",
    "\n",
    "tc.assertEqual(response.status_code, 201, \"Failed to publish token statuses\")\n",
    "print(\"Token statuses published successfully!\")"
   ]
  },
  {
   "cell_type": "code",
   "execution_count": 7,
   "id": "bab2a63e-1837-4657-942b-dc704dd318b2",
   "metadata": {},
   "outputs": [
    {
     "ename": "AssertionError",
     "evalue": "401 != 409",
     "output_type": "error",
     "traceback": [
      "\u001b[0;31m---------------------------------------------------------------------------\u001b[0m",
      "\u001b[0;31mAssertionError\u001b[0m                            Traceback (most recent call last)",
      "Cell \u001b[0;32mIn[7], line 13\u001b[0m\n\u001b[1;32m      1\u001b[0m \u001b[38;5;66;03m# Unfortunately, there is currently no means to update status lists\u001b[39;00m\n\u001b[1;32m      2\u001b[0m \u001b[38;5;66;03m# Attempting to publish again under the same status list ID results in a 409 error.\u001b[39;00m\n\u001b[1;32m      4\u001b[0m response \u001b[38;5;241m=\u001b[39m requests\u001b[38;5;241m.\u001b[39mpost(status_publish_endpoint, json\u001b[38;5;241m=\u001b[39m{\n\u001b[1;32m      5\u001b[0m     \u001b[38;5;124m\"\u001b[39m\u001b[38;5;124mlist_id\u001b[39m\u001b[38;5;124m\"\u001b[39m: status_list_id,\n\u001b[1;32m      6\u001b[0m     \u001b[38;5;124m\"\u001b[39m\u001b[38;5;124mbits\u001b[39m\u001b[38;5;124m\"\u001b[39m: \u001b[38;5;241m2\u001b[39m,\n\u001b[0;32m   (...)\u001b[0m\n\u001b[1;32m     10\u001b[0m     ]\n\u001b[1;32m     11\u001b[0m })\n\u001b[0;32m---> 13\u001b[0m \u001b[43mtc\u001b[49m\u001b[38;5;241;43m.\u001b[39;49m\u001b[43massertEqual\u001b[49m\u001b[43m(\u001b[49m\u001b[43mresponse\u001b[49m\u001b[38;5;241;43m.\u001b[39;49m\u001b[43mstatus_code\u001b[49m\u001b[43m,\u001b[49m\u001b[43m \u001b[49m\u001b[38;5;241;43m409\u001b[39;49m\u001b[43m)\u001b[49m\n",
      "File \u001b[0;32m~/miniconda3/envs/demo-status-list-server/lib/python3.10/unittest/case.py:845\u001b[0m, in \u001b[0;36mTestCase.assertEqual\u001b[0;34m(self, first, second, msg)\u001b[0m\n\u001b[1;32m    841\u001b[0m \u001b[38;5;250m\u001b[39m\u001b[38;5;124;03m\"\"\"Fail if the two objects are unequal as determined by the '=='\u001b[39;00m\n\u001b[1;32m    842\u001b[0m \u001b[38;5;124;03m   operator.\u001b[39;00m\n\u001b[1;32m    843\u001b[0m \u001b[38;5;124;03m\"\"\"\u001b[39;00m\n\u001b[1;32m    844\u001b[0m assertion_func \u001b[38;5;241m=\u001b[39m \u001b[38;5;28mself\u001b[39m\u001b[38;5;241m.\u001b[39m_getAssertEqualityFunc(first, second)\n\u001b[0;32m--> 845\u001b[0m \u001b[43massertion_func\u001b[49m\u001b[43m(\u001b[49m\u001b[43mfirst\u001b[49m\u001b[43m,\u001b[49m\u001b[43m \u001b[49m\u001b[43msecond\u001b[49m\u001b[43m,\u001b[49m\u001b[43m \u001b[49m\u001b[43mmsg\u001b[49m\u001b[38;5;241;43m=\u001b[39;49m\u001b[43mmsg\u001b[49m\u001b[43m)\u001b[49m\n",
      "File \u001b[0;32m~/miniconda3/envs/demo-status-list-server/lib/python3.10/unittest/case.py:838\u001b[0m, in \u001b[0;36mTestCase._baseAssertEqual\u001b[0;34m(self, first, second, msg)\u001b[0m\n\u001b[1;32m    836\u001b[0m standardMsg \u001b[38;5;241m=\u001b[39m \u001b[38;5;124m'\u001b[39m\u001b[38;5;132;01m%s\u001b[39;00m\u001b[38;5;124m != \u001b[39m\u001b[38;5;132;01m%s\u001b[39;00m\u001b[38;5;124m'\u001b[39m \u001b[38;5;241m%\u001b[39m _common_shorten_repr(first, second)\n\u001b[1;32m    837\u001b[0m msg \u001b[38;5;241m=\u001b[39m \u001b[38;5;28mself\u001b[39m\u001b[38;5;241m.\u001b[39m_formatMessage(msg, standardMsg)\n\u001b[0;32m--> 838\u001b[0m \u001b[38;5;28;01mraise\u001b[39;00m \u001b[38;5;28mself\u001b[39m\u001b[38;5;241m.\u001b[39mfailureException(msg)\n",
      "\u001b[0;31mAssertionError\u001b[0m: 401 != 409"
     ]
    }
   ],
   "source": [
    "# Unfortunately, there is currently no means to update status lists\n",
    "# Attempting to publish again under the same status list ID results in a 409 error.\n",
    "\n",
    "response = requests.post(status_publish_endpoint, json={\n",
    "    \"list_id\": status_list_id,\n",
    "    \"bits\": 2,\n",
    "    \"updates\": [\n",
    "        {\"index\": 1, \"status\": \"VALID\"},\n",
    "        {\"index\": 8, \"status\": \"INVALID\"}\n",
    "    ]\n",
    "})\n",
    "\n",
    "tc.assertEqual(response.status_code, 409)"
   ]
  },
  {
   "cell_type": "markdown",
   "id": "03255447-4374-446e-8411-d2a9ffee455f",
   "metadata": {},
   "source": [
    "### A Relying Party retrieves published status lists (GET /statuslists/{status_list_id})"
   ]
  },
  {
   "cell_type": "code",
   "execution_count": null,
   "id": "94172c31-06fa-476e-a311-0312d17a53d8",
   "metadata": {},
   "outputs": [],
   "source": [
    "# application/statuslist+jwt\n",
    "\n",
    "status_retrieve_endpoint = f\"{BASE_URL}/statuslists/{status_list_id}\"\n",
    "print(f\"Testing GET: {status_retrieve_endpoint}\")\n",
    "\n",
    "headers = {'Accept': 'application/statuslist+jwt'}\n",
    "response = requests.get(status_retrieve_endpoint, headers=headers)\n",
    "tc.assertEqual(response.status_code, 200, \"Failed to retrieve status list\")\n",
    "\n",
    "print(\"Retrieved status list successfully:\", end=\" \")\n",
    "jwt_token = response.text\n",
    "print(jwt_token)\n",
    "\n",
    "# validate JWT\n",
    "\n",
    "header = jwt.get_unverified_header(jwt_token)\n",
    "payload = jwt.decode(jwt_token, options={\"verify_signature\": False})\n",
    "\n",
    "tc.assertEqual('statuslist+jwt', header.get('typ'))\n",
    "tc.assertEqual({'bits': 2, 'lst': 'eNpjYGAEAAAEAAI'}, payload.get('status_list'))\n",
    "\n",
    "lst = payload.get('status_list').get('lst')\n",
    "tc.assertEqual(bytes([0x00, 0x00, 0x01]), utils.decode_and_decompress(lst))"
   ]
  },
  {
   "cell_type": "code",
   "execution_count": null,
   "id": "790cd184-81b2-4f0c-9189-f09ba037a15f",
   "metadata": {},
   "outputs": [],
   "source": [
    "# application/statuslist+cwt\n",
    "\n",
    "headers = {'Accept': 'application/statuslist+cwt'}\n",
    "response = requests.get(status_retrieve_endpoint, headers=headers)\n",
    "tc.assertEqual(response.status_code, 200, \"Failed to retrieve status list\")\n",
    "tc.assertTrue(utils.is_valid_cwt(response.content))\n",
    "\n",
    "print(\"Retrieved status list successfully\")"
   ]
  },
  {
   "cell_type": "code",
   "execution_count": null,
   "id": "0c1f33da-1362-4370-838b-81947d3cad67",
   "metadata": {},
   "outputs": [],
   "source": []
  }
 ],
 "metadata": {
  "kernelspec": {
   "display_name": "Python 3 (ipykernel)",
   "language": "python",
   "name": "python3"
  },
  "language_info": {
   "codemirror_mode": {
    "name": "ipython",
    "version": 3
   },
   "file_extension": ".py",
   "mimetype": "text/x-python",
   "name": "python",
   "nbconvert_exporter": "python",
   "pygments_lexer": "ipython3",
   "version": "3.10.16"
  }
 },
 "nbformat": 4,
 "nbformat_minor": 5
}
